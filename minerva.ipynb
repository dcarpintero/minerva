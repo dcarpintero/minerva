{
 "cells": [
  {
   "cell_type": "markdown",
   "metadata": {},
   "source": [
    "# Minerva: AI Guardian for Scam Protection"
   ]
  },
  {
   "cell_type": "markdown",
   "metadata": {},
   "source": [
    "This notebook implements a multi-agent system for analyzing images (screenshots) to identify scam attempts, and provide personalized scam prevention. It uses [AutoGen](https://github.com/microsoft/autogen/) to orchestrate various specialized agents that work together.\n",
    "\n",
    "Benefits:\n",
    "- Automates the process of identifying suspicious scam patterns.\n",
    "- Prevent Financial Loss\n",
    "- Save Time: Early scam detection reduces the number of claims filed by end-users."
   ]
  },
  {
   "cell_type": "markdown",
   "metadata": {},
   "source": [
    "## Install Dependencies"
   ]
  },
  {
   "cell_type": "code",
   "execution_count": 103,
   "metadata": {},
   "outputs": [
    {
     "name": "stdout",
     "output_type": "stream",
     "text": [
      "Note: you may need to restart the kernel to use updated packages.\n"
     ]
    }
   ],
   "source": [
    "%pip install -q autogen-agentchat~=0.2 pillow pytesseract pyyaml"
   ]
  },
  {
   "cell_type": "code",
   "execution_count": null,
   "metadata": {},
   "outputs": [],
   "source": [
    "import autogen\n",
    "\n",
    "from IPython.display import Image as IPImage\n",
    "from IPython.display import display"
   ]
  },
  {
   "cell_type": "code",
   "execution_count": 106,
   "metadata": {},
   "outputs": [],
   "source": [
    "import os\n",
    "from dotenv import load_dotenv, find_dotenv\n",
    "\n",
    "load_dotenv(find_dotenv())\n",
    "\n",
    "config_list = [\n",
    "    {\n",
    "        \"model\": \"gpt-4o-mini\",\n",
    "        \"api_key\": os.getenv(\"OPENAI_API_KEY\")\n",
    "    }\n",
    "]\n",
    "\n",
    "llm_config = {\n",
    "    \"config_list\": config_list,\n",
    "    \"timeout\": 120,\n",
    "}"
   ]
  },
  {
   "cell_type": "code",
   "execution_count": 107,
   "metadata": {},
   "outputs": [],
   "source": [
    "import yaml\n",
    "\n",
    "with open('config/agents.yaml', 'r') as file:\n",
    "    config = yaml.safe_load(file)"
   ]
  },
  {
   "cell_type": "markdown",
   "metadata": {},
   "source": [
    "## Agents Creation"
   ]
  },
  {
   "cell_type": "code",
   "execution_count": 108,
   "metadata": {},
   "outputs": [],
   "source": [
    "def create_agents():\n",
    "\n",
    "    ocr_agent = autogen.AssistantAgent(\n",
    "        name=\"OCR_Specialist\",\n",
    "        system_message=config['ocr_agent']['assignment'],\n",
    "        llm_config=llm_config\n",
    "    )\n",
    "   \n",
    "    content_agent = autogen.AssistantAgent(\n",
    "        name=\"Content_Analyst\",\n",
    "        system_message=config['content_agent']['assignment'],\n",
    "        llm_config=llm_config\n",
    "    )\n",
    "\n",
    "    decision_agent = autogen.AssistantAgent(\n",
    "        name=\"Decision_Maker\",\n",
    "        system_message=config['decision_agent']['assignment'],\n",
    "        llm_config=llm_config\n",
    "    )\n",
    "\n",
    "    summary_agent = autogen.AssistantAgent(\n",
    "        name=\"Summary_Agent\",\n",
    "        system_message=config['summary_agent']['assignment'],\n",
    "        llm_config=llm_config\n",
    "    )\n",
    "\n",
    "    user_proxy = autogen.UserProxyAgent(\n",
    "        name=\"user_proxy\",\n",
    "        is_termination_msg=lambda x: \"TASK_COMPLETE\" in x.get(\"content\", \"\"),\n",
    "        human_input_mode=\"NEVER\",\n",
    "        max_consecutive_auto_reply=10,\n",
    "    )\n",
    "\n",
    "    @user_proxy.register_for_execution()\n",
    "    @ocr_agent.register_for_llm(description=\"Extracts text from an image path\")\n",
    "    def ocr(image_path: str) -> str:\n",
    "        from PIL import Image\n",
    "        import pytesseract\n",
    "\n",
    "        try:\n",
    "            image = Image.open(image_path)\n",
    "            text = pytesseract.image_to_string(image)\n",
    "            return text\n",
    "        except Exception as e:\n",
    "            return f\"Error in text extraction: {str(e)}\"\n",
    "    \n",
    "    return ocr_agent, content_agent, decision_agent, user_proxy "
   ]
  },
  {
   "cell_type": "markdown",
   "metadata": {},
   "source": [
    "## Workflow"
   ]
  },
  {
   "cell_type": "code",
   "execution_count": 109,
   "metadata": {},
   "outputs": [],
   "source": [
    "class ScamDetectionWorkflow:\n",
    "    def __init__(self):\n",
    "        self.ocr_agent, self.content_agent, self.decision_agent, self.user_proxy = create_agents()\n",
    "        \n",
    "    def analyze(self, image_path):\n",
    "        \"\"\"Coordinate the multi-agent analysis.\n",
    "        \"\"\"\n",
    "        image_path = \"./samples/02.giftcard.message.scam.png\"\n",
    "        \n",
    "        groupchat = autogen.GroupChat(\n",
    "            agents=[self.ocr_agent, self.content_agent, self.decision_agent, self.user_proxy],\n",
    "            messages=[],\n",
    "            max_round=15,\n",
    "        )\n",
    "        manager = autogen.GroupChatManager(groupchat=groupchat)\n",
    "\n",
    "        # Start the collaborative analysis\n",
    "        messages = self.user_proxy.initiate_chat(\n",
    "            manager,\n",
    "            message=f\"\"\"\n",
    "            1. OCR Agent: Extract text from this image: {image_path}\n",
    "            2. Content Agent: Evaluate the messaging and claims\n",
    "            3. Decision Maker: Synthesize all analyses and make final determination\"\"\",\n",
    "        )\n",
    "\n",
    "        return messages"
   ]
  },
  {
   "cell_type": "code",
   "execution_count": 110,
   "metadata": {},
   "outputs": [
    {
     "data": {
      "image/png": "[encoded data removed]",
      "text/plain": [
       "<IPython.core.display.Image object>"
      ]
     },
     "metadata": {},
     "output_type": "display_data"
    },
    {
     "name": "stdout",
     "output_type": "stream",
     "text": [
      "\u001b[33muser_proxy\u001b[0m (to chat_manager):\n",
      "\n",
      "\n",
      "            1. OCR Agent: Extract text from this image: ./samples/02.giftcard.message.scam.png\n",
      "            2. Content Agent: Evaluate the messaging and claims\n",
      "            3. Decision Maker: Synthesize all analyses and make final determination\n",
      "\n",
      "--------------------------------------------------------------------------------\n",
      "\u001b[32m\n",
      "Next speaker: OCR_Specialist\n",
      "\u001b[0m\n",
      "\u001b[33mOCR_Specialist\u001b[0m (to chat_manager):\n",
      "\n",
      "\u001b[32m***** Suggested tool call (call_u8NqTuVd9I0eMW0FEyuggyxJ): ocr *****\u001b[0m\n",
      "Arguments: \n",
      "{\"image_path\":\"./samples/02.giftcard.message.scam.png\"}\n",
      "\u001b[32m********************************************************************\u001b[0m\n",
      "\n",
      "--------------------------------------------------------------------------------\n",
      "\u001b[32m\n",
      "Next speaker: user_proxy\n",
      "\u001b[0m\n",
      "\u001b[35m\n",
      ">>>>>>>> EXECUTING FUNCTION ocr...\u001b[0m\n",
      "\u001b[33muser_proxy\u001b[0m (to chat_manager):\n",
      "\n",
      "\u001b[32m***** Response from calling tool (call_u8NqTuVd9I0eMW0FEyuggyxJ) *****\u001b[0m\n",
      "Congratulations!\n",
      "You've won a $1,000\n",
      "Walmart gift card. Go\n",
      "\n",
      "http://bit.ly/123456\n",
      "tp claim now.\n",
      "\f\n",
      "\u001b[32m**********************************************************************\u001b[0m\n",
      "\n",
      "--------------------------------------------------------------------------------\n",
      "\u001b[32m\n",
      "Next speaker: OCR_Specialist\n",
      "\u001b[0m\n",
      "\u001b[33mOCR_Specialist\u001b[0m (to chat_manager):\n",
      "\n",
      "The extracted text from the image is as follows:\n",
      "\n",
      "---\n",
      "\n",
      "**Congratulations!  \n",
      "You've won a $1,000 Walmart gift card. Go  \n",
      "http://bit.ly/123456  \n",
      "to claim now.**\n",
      "\n",
      "---\n",
      "\n",
      "### Analysis of the Messaging and Claims:\n",
      "\n",
      "1. **Claim of Winning a Gift Card:** \n",
      "   - The message states that the recipient has won a $1,000 gift card which is a common tactic used in scams to entice users with unrealistic prizes.\n",
      "\n",
      "2. **Call-to-Action (CTA):**\n",
      "   - The instruction to \"**Go to http://bit.ly/123456 to claim now**\" encourages immediate action, which is typically observed in fraudulent messages. This urgency can lead individuals to make hasty decisions.\n",
      "\n",
      "3. **Use of a URL Shortener:**\n",
      "   - The link provided is a shortened URL (bit.ly). Scammers often use such links to obscure the destination, making it harder for users to identify if the site is safe.\n",
      "\n",
      "4. **Lack of Official Branding:** \n",
      "   - Although Walmart is mentioned, there is no official branding or logo associated with this message, which further indicates it may not be legitimate.\n",
      "\n",
      "5. **Common Scam Characteristics:** \n",
      "   - The format and language (e.g., \"Congratulations!\" and \"You've won\") align with typical scam messages aimed at eliciting personal information or financial details.\n",
      "\n",
      "### Final Determination:\n",
      "This message is likely part of a scam. It claims an unrealistic prize, employs urgency, uses a URL shortener, and lacks official branding. It is advisable to avoid clicking on such links or providing any personal information.\n",
      "\n",
      "--------------------------------------------------------------------------------\n",
      "\u001b[32m\n",
      "Next speaker: Content_Analyst\n",
      "\u001b[0m\n",
      "\u001b[33mContent_Analyst\u001b[0m (to chat_manager):\n",
      "\n",
      "### Final Analysis & Determination:\n",
      "\n",
      "**1. Common Scam Patterns:**\n",
      "   - The message claims that the recipient has won a large monetary prize (a $1,000 Walmart gift card), which is a typical scam tactic designed to lure individuals with the promise of free money.\n",
      "   - The format features exclamatory language and congratulatory tones, often used to evoke excitement and urgency.\n",
      "\n",
      "**2. Contact Information Evaluation:**\n",
      "   - The provided URL (http://bit.ly/123456) is a shortened link, which is often used in scams to mask the actual destination website. Clicking such links can expose users to malicious websites designed to steal personal or financial information.\n",
      "\n",
      "**3. Urgency Indicators:**\n",
      "   - The phrase \"to claim now\" creates a sense of urgency, pushing the recipient to act quickly without careful consideration. This tactic is commonly employed in scams to disrupt rational decision-making.\n",
      "\n",
      "**4. Inconsistencies in Messaging:**\n",
      "   - There is no official branding from Walmart or any legitimate verification in the message, indicating a lack of credibility. Legitimate giveaways by established companies would typically include confirmed branding and often have more detailed processes.\n",
      "\n",
      "**5. Claims and Offers Evaluation:**\n",
      "   - The claim of winning a $1,000 gift card is highly questionable and likely fraudulent. Such large sums are seldom offered without legitimate contests or promotions. \n",
      "\n",
      "### Conclusion:\n",
      "Based on all observations, this message is highly likely to be a scam. Recipients should disregard the message, avoid clicking the link, and refrain from providing any personal information. It exemplifies the classic traits of phishing scams.\n",
      "\n",
      "--------------------------------------------------------------------------------\n",
      "\u001b[32m\n",
      "Next speaker: Decision_Maker\n",
      "\u001b[0m\n",
      "\u001b[33mDecision_Maker\u001b[0m (to chat_manager):\n",
      "\n",
      "Based on the analyses provided from both the OCR extraction and content evaluation, I have reached a final determination regarding the probability that this message is a scam.\n",
      "\n",
      "### Final Determination:\n",
      "The message purporting to inform the recipient of a $1,000 Walmart gift card win is unequivocally a scam.\n",
      "\n",
      "### Detailed Explanation:\n",
      "\n",
      "1. **Classic Scam Traits:**\n",
      "   - The claim of winning a prize, especially of such an amount, is a hallmark of scams. Organizations do not randomly award gift cards without a proper contest or registration process.\n",
      "\n",
      "2. **Urgent Call to Action:**\n",
      "   - The phrase \"to claim now\" creates a sense of urgency that is typically designed to prevent the target from thinking critically about the offer or engaging in due diligence.\n",
      "\n",
      "3. **URL Shortener Usage:**\n",
      "   - The use of a shortened URL (bit.ly) is another red flag, as it obscures the real link and can lead to harmful sites. Scammers frequently employ such tactics to hide their true intent.\n",
      "\n",
      "4. **Absence of Credibility:**\n",
      "   - The message lacks official branding and does not direct the recipient to a legitimate platform associated with Walmart. A credible business would provide clear identification and often more detailed instructions for any contests or promotions.\n",
      "\n",
      "5. **Emotional Manipulation:**\n",
      "   - The exclamatory and congratulatory tone is crafted to elicit excitement, preying on emotions to trigger impulsive responses. This strategy is prevalent in scams aiming to elicit personal data or financial information through deceptive means.\n",
      "\n",
      "### Conclusion:\n",
      "All elements analyzed confirm that this is a highly probable scam intended to mislead recipients into providing sensitive information or engaging in fraudulent activity. The message exhibits the quintessential characteristics of phishing attempts, and I recommend immediate disregard for it.\n",
      "\n",
      "TASK_COMPLETE\n",
      "\n",
      "--------------------------------------------------------------------------------\n",
      "\u001b[32m\n",
      "Next speaker: user_proxy\n",
      "\u001b[0m\n"
     ]
    }
   ],
   "source": [
    "image_path = \"./samples/02.giftcard.message.scam.png\"\n",
    "display(IPImage(filename=image_path))\n",
    "\n",
    "workflow = ScamDetectionWorkflow()\n",
    "results = workflow.analyze(image_path)"
   ]
  },
  {
   "cell_type": "code",
   "execution_count": 111,
   "metadata": {},
   "outputs": [
    {
     "name": "stdout",
     "output_type": "stream",
     "text": [
      "{'content': 'Based on the analyses provided from both the OCR extraction and '\n",
      "            'content evaluation, I have reached a final determination '\n",
      "            'regarding the probability that this message is a scam.\\n'\n",
      "            '\\n'\n",
      "            '### Final Determination:\\n'\n",
      "            'The message purporting to inform the recipient of a $1,000 '\n",
      "            'Walmart gift card win is unequivocally a scam.\\n'\n",
      "            '\\n'\n",
      "            '### Detailed Explanation:\\n'\n",
      "            '\\n'\n",
      "            '1. **Classic Scam Traits:**\\n'\n",
      "            '   - The claim of winning a prize, especially of such an amount, '\n",
      "            'is a hallmark of scams. Organizations do not randomly award gift '\n",
      "            'cards without a proper contest or registration process.\\n'\n",
      "            '\\n'\n",
      "            '2. **Urgent Call to Action:**\\n'\n",
      "            '   - The phrase \"to claim now\" creates a sense of urgency that is '\n",
      "            'typically designed to prevent the target from thinking critically '\n",
      "            'about the offer or engaging in due diligence.\\n'\n",
      "            '\\n'\n",
      "            '3. **URL Shortener Usage:**\\n'\n",
      "            '   - The use of a shortened URL (bit.ly) is another red flag, as '\n",
      "            'it obscures the real link and can lead to harmful sites. Scammers '\n",
      "            'frequently employ such tactics to hide their true intent.\\n'\n",
      "            '\\n'\n",
      "            '4. **Absence of Credibility:**\\n'\n",
      "            '   - The message lacks official branding and does not direct the '\n",
      "            'recipient to a legitimate platform associated with Walmart. A '\n",
      "            'credible business would provide clear identification and often '\n",
      "            'more detailed instructions for any contests or promotions.\\n'\n",
      "            '\\n'\n",
      "            '5. **Emotional Manipulation:**\\n'\n",
      "            '   - The exclamatory and congratulatory tone is crafted to elicit '\n",
      "            'excitement, preying on emotions to trigger impulsive responses. '\n",
      "            'This strategy is prevalent in scams aiming to elicit personal '\n",
      "            'data or financial information through deceptive means.\\n'\n",
      "            '\\n'\n",
      "            '### Conclusion:\\n'\n",
      "            'All elements analyzed confirm that this is a highly probable scam '\n",
      "            'intended to mislead recipients into providing sensitive '\n",
      "            'information or engaging in fraudulent activity. The message '\n",
      "            'exhibits the quintessential characteristics of phishing attempts, '\n",
      "            'and I recommend immediate disregard for it.\\n'\n",
      "            '\\n'\n",
      "            'TASK_COMPLETE',\n",
      " 'name': 'Decision_Maker',\n",
      " 'role': 'user'}\n"
     ]
    }
   ],
   "source": [
    "import pprint\n",
    "\n",
    "pprint.pprint(results.chat_history[-1])"
   ]
  },
  {
   "cell_type": "code",
   "execution_count": 112,
   "metadata": {},
   "outputs": [],
   "source": [
    "import json\n",
    "\n",
    "\n",
    "with open('results.json', 'w') as json_file:\n",
    "    json.dump(results.__dict__, json_file, indent=4)"
   ]
  }
 ],
 "metadata": {
  "kernelspec": {
   "display_name": "Python 3",
   "language": "python",
   "name": "python3"
  },
  "language_info": {
   "codemirror_mode": {
    "name": "ipython",
    "version": 3
   },
   "file_extension": ".py",
   "mimetype": "text/x-python",
   "name": "python",
   "nbconvert_exporter": "python",
   "pygments_lexer": "ipython3",
   "version": "3.12.1"
  }
 },
 "nbformat": 4,
 "nbformat_minor": 2
}
